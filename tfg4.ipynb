{
  "cells": [
    {
      "cell_type": "code",
      "execution_count": null,
      "metadata": {
        "id": "sL-sFuNJ5FCk"
      },
      "outputs": [],
      "source": [
        "from google.colab import drive\n",
        "drive.mount('/content/drive')"
      ]
    },
    {
      "cell_type": "code",
      "execution_count": null,
      "metadata": {
        "id": "NYdYLW6fAJmJ"
      },
      "outputs": [],
      "source": [
        "import tensorflow as tf\n",
        "import tensorflow as tf\n",
        "from tensorflow import keras\n",
        "from tensorflow.keras import layers\n",
        "import pandas as pd\n",
        "import zipfile\n",
        "from io import BytesIO\n",
        "import numpy as np\n",
        "import matplotlib.pyplot as plt\n",
        "import seaborn as sns\n"
      ]
    },
    {
      "cell_type": "code",
      "source": [
        "df_food = pd.read_parquet(\"/content/drive/MyDrive/TFG/dataset_food.parquet\")\n",
        "df_food.head()"
      ],
      "metadata": {
        "id": "Kgg_26TlzeRq"
      },
      "execution_count": null,
      "outputs": []
    },
    {
      "cell_type": "code",
      "source": [
        "df_bgtargets = pd.read_parquet(\"/content/drive/MyDrive/TFG/dataset_bgtargets.parquet\")\n",
        "df_bgtargets.head()"
      ],
      "metadata": {
        "id": "dJO6qTz7StQh"
      },
      "execution_count": null,
      "outputs": []
    },
    {
      "cell_type": "code",
      "source": [
        "df_carbratios = pd.read_parquet(\"/content/drive/MyDrive/TFG/dataset_carbratios.parquet\")\n",
        "df_carbratios.head()"
      ],
      "metadata": {
        "id": "oCkiWHAk5te0"
      },
      "execution_count": null,
      "outputs": []
    },
    {
      "cell_type": "code",
      "source": [
        "print(df_food.columns)\n",
        "print(df_bgtargets.columns)\n",
        "print(df_carbratios.columns)"
      ],
      "metadata": {
        "id": "EbrMdkAF4ZG8"
      },
      "execution_count": null,
      "outputs": []
    },
    {
      "cell_type": "code",
      "source": [
        "df_food['Local Time'] = pd.to_datetime(df_food['Local Time'])\n",
        "df_food['Zulu Time'] = pd.to_datetime(df_food['Zulu Time'], utc=True)\n",
        "df_food['Device Time'] = pd.to_datetime(df_food['Device Time'])"
      ],
      "metadata": {
        "id": "-lOTt9mtytwa"
      },
      "execution_count": null,
      "outputs": []
    },
    {
      "cell_type": "code",
      "source": [
        "df_carbratios['Local Time'] = pd.to_datetime(df_carbratios['Local Time'])\n",
        "df_carbratios['Zulu Time'] = pd.to_datetime(df_carbratios['Zulu Time'], utc=True)\n",
        "df_carbratios['Device Time'] = pd.to_datetime(df_carbratios['Device Time'])"
      ],
      "metadata": {
        "id": "7Z_FH3XC3Daz"
      },
      "execution_count": null,
      "outputs": []
    },
    {
      "cell_type": "code",
      "source": [
        "df_food = df_food.dropna(axis=1, thresh=int(0.5 * len(df_food)))\n",
        "df_bgtargets = df_bgtargets.dropna(axis=1, thresh=int(0.5 * len(df_bgtargets)))\n",
        "df_carbratios = df_carbratios.dropna(axis=1, thresh=int(0.5 * len(df_carbratios)))\n"
      ],
      "metadata": {
        "id": "RuqaHya74mF5"
      },
      "execution_count": null,
      "outputs": []
    },
    {
      "cell_type": "code",
      "source": [
        "df_food = df_food.drop_duplicates()\n",
        "df_bgtargets = df_bgtargets.drop_duplicates()\n",
        "df_carbratios = df_carbratios.drop_duplicates()"
      ],
      "metadata": {
        "id": "3NKUiw_R4tST"
      },
      "execution_count": null,
      "outputs": []
    },
    {
      "cell_type": "code",
      "source": [
        "import numpy as np\n",
        "\n",
        "for df in [df_food, df_bgtargets]:\n",
        "    for column in df.columns:\n",
        "        if df[column].dtype in [np.int64, np.float64]:\n",
        "            if (df[column] == 0).all():\n",
        "                df.drop(column, axis=1, inplace=True)\n"
      ],
      "metadata": {
        "id": "VG-U4XdY7YkE"
      },
      "execution_count": null,
      "outputs": []
    },
    {
      "cell_type": "code",
      "source": [
        "print(df_food.columns)\n",
        "print(df_bgtargets.columns)\n",
        "print(df_carbratios.columns)"
      ],
      "metadata": {
        "id": "zb8i2tmzyJvU"
      },
      "execution_count": null,
      "outputs": []
    },
    {
      "cell_type": "code",
      "source": [
        "numeric_cols1 = df_food.select_dtypes(include=['int64', 'float64']).columns\n",
        "numeric_cols2 = df_bgtargets.select_dtypes(include=['int64', 'float64']).columns\n",
        "numeric_cols3 = df_carbratios.select_dtypes(include=['int64', 'float64']).columns"
      ],
      "metadata": {
        "id": "SMUYz7Y5zcl0"
      },
      "execution_count": null,
      "outputs": []
    },
    {
      "cell_type": "code",
      "source": [
        "df_food[numeric_cols1].hist(figsize=(12, 8), bins=30, edgecolor='black')\n",
        "plt.show()"
      ],
      "metadata": {
        "id": "5m_xwgDzyZ2I"
      },
      "execution_count": null,
      "outputs": []
    },
    {
      "cell_type": "code",
      "source": [
        "plt.figure(figsize=(10, 6))\n",
        "sns.heatmap(df_food[numeric_cols1].corr(), annot=True, cmap=\"coolwarm\", fmt=\".2f\", linewidths=0.5)\n",
        "plt.show()"
      ],
      "metadata": {
        "id": "ElBRaSjoy6lk"
      },
      "execution_count": null,
      "outputs": []
    },
    {
      "cell_type": "code",
      "source": [
        "df_bgtargets[numeric_cols2].hist(figsize=(12, 8), bins=30, edgecolor='black')\n",
        "plt.show()"
      ],
      "metadata": {
        "id": "xDoU7lLB0gNj"
      },
      "execution_count": null,
      "outputs": []
    },
    {
      "cell_type": "code",
      "source": [
        "plt.figure(figsize=(10, 6))\n",
        "sns.heatmap(df_bgtargets[numeric_cols2].corr(), annot=True, cmap=\"coolwarm\", fmt=\".2f\", linewidths=0.5)\n",
        "plt.show()"
      ],
      "metadata": {
        "id": "OG6ylB9p3EOT"
      },
      "execution_count": null,
      "outputs": []
    },
    {
      "cell_type": "code",
      "source": [
        "plt.figure(figsize=(12, 6))\n",
        "plt.plot(df_bgtargets['Local Time'], df_bgtargets['BG Target Setting'], alpha=0.7)\n",
        "plt.show()"
      ],
      "metadata": {
        "id": "Laryn-LZvsJA"
      },
      "execution_count": null,
      "outputs": []
    },
    {
      "cell_type": "code",
      "source": [
        "df_carbratios[numeric_cols3].hist(figsize=(12, 8), bins=30, edgecolor='black')\n",
        "plt.show()"
      ],
      "metadata": {
        "id": "X2k6gtZs6JZM"
      },
      "execution_count": null,
      "outputs": []
    },
    {
      "cell_type": "code",
      "source": [
        "plt.figure(figsize=(10, 6))\n",
        "sns.heatmap(df_carbratios[numeric_cols3].corr(), annot=True, cmap=\"coolwarm\", fmt=\".2f\", linewidths=0.5)\n",
        "plt.show()"
      ],
      "metadata": {
        "id": "k2RPKXES6NaQ"
      },
      "execution_count": null,
      "outputs": []
    },
    {
      "cell_type": "code",
      "source": [
        "plt.figure(figsize=(12, 6))\n",
        "plt.plot(df_carbratios['Local Time'], df_carbratios['Carb Ratio Amount'], alpha=0.7)\n",
        "plt.show()"
      ],
      "metadata": {
        "id": "nMmggNjC6RhF"
      },
      "execution_count": null,
      "outputs": []
    }
  ],
  "metadata": {
    "colab": {
      "provenance": [],
      "gpuType": "T4"
    },
    "kernelspec": {
      "display_name": "Python 3",
      "name": "python3"
    },
    "language_info": {
      "name": "python"
    },
    "accelerator": "GPU"
  },
  "nbformat": 4,
  "nbformat_minor": 0
}