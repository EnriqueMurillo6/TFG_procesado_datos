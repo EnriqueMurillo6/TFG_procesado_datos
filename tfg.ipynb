{
  "cells": [
    {
      "cell_type": "code",
      "execution_count": null,
      "metadata": {
        "id": "sL-sFuNJ5FCk"
      },
      "outputs": [],
      "source": [
        "from google.colab import drive\n",
        "drive.mount('/content/drive')"
      ]
    },
    {
      "cell_type": "code",
      "execution_count": null,
      "metadata": {
        "id": "NYdYLW6fAJmJ"
      },
      "outputs": [],
      "source": [
        "import tensorflow as tf\n",
        "import tensorflow as tf\n",
        "from tensorflow import keras\n",
        "from tensorflow.keras import layers\n",
        "import pandas as pd\n",
        "import zipfile\n",
        "from io import BytesIO\n",
        "import numpy as np\n",
        "import matplotlib.pyplot as plt\n",
        "import seaborn as sns\n"
      ]
    },
    {
      "cell_type": "code",
      "source": [
        "df_basal1 = pd.read_parquet(\"/content/drive/MyDrive/TFG/dataset_basal1.parquet\")\n",
        "df_basal2 = pd.read_parquet(\"/content/drive/MyDrive/TFG/dataset_basal2.parquet\")\n",
        "df_basal = pd.concat([df_basal1, df_basal2], ignore_index=True)\n",
        "df_basal.head()"
      ],
      "metadata": {
        "id": "Kgg_26TlzeRq"
      },
      "execution_count": null,
      "outputs": []
    },
    {
      "cell_type": "code",
      "source": [
        "df_bolus1 = pd.read_parquet(\"/content/drive/MyDrive/TFG/dataset_bolus1.parquet\")\n",
        "df_bolus2 = pd.read_parquet(\"/content/drive/MyDrive/TFG/dataset_bolus2.parquet\")\n",
        "df_bolus = pd.concat([df_bolus1, df_bolus2], ignore_index=True)\n",
        "df_bolus.head()"
      ],
      "metadata": {
        "id": "-_teiYa3Du7_"
      },
      "execution_count": null,
      "outputs": []
    },
    {
      "cell_type": "code",
      "source": [
        "print(df_basal.columns)\n",
        "print(df_bolus.columns)\n"
      ],
      "metadata": {
        "id": "EbrMdkAF4ZG8"
      },
      "execution_count": null,
      "outputs": []
    },
    {
      "cell_type": "code",
      "source": [
        "df_basal = df_basal.dropna(axis=1, thresh=int(0.5 * len(df_basal)))\n",
        "df_bolus = df_bolus.dropna(axis=1, thresh=int(0.5 * len(df_bolus)))\n",
        "\n"
      ],
      "metadata": {
        "id": "RuqaHya74mF5"
      },
      "execution_count": null,
      "outputs": []
    },
    {
      "cell_type": "code",
      "source": [
        "df_basal = df_basal.drop_duplicates()\n",
        "df_bolus = df_bolus.drop_duplicates()\n"
      ],
      "metadata": {
        "id": "3NKUiw_R4tST"
      },
      "execution_count": null,
      "outputs": []
    },
    {
      "cell_type": "code",
      "source": [
        "df_basal['Local Time'] = pd.to_datetime(df_basal['Local Time'])\n",
        "df_basal['Zulu Time'] = pd.to_datetime(df_basal['Zulu Time'], utc=True)\n",
        "df_basal['Device Time'] = pd.to_datetime(df_basal['Device Time'])"
      ],
      "metadata": {
        "id": "1PdToPKWwtP_"
      },
      "execution_count": null,
      "outputs": []
    },
    {
      "cell_type": "code",
      "source": [
        "df_bolus['Local Time'] = pd.to_datetime(df_bolus['Local Time'])\n",
        "df_bolus['Zulu Time'] = pd.to_datetime(df_bolus['Zulu Time'], utc=True)\n",
        "df_bolus['Device Time'] = pd.to_datetime(df_bolus['Device Time'])"
      ],
      "metadata": {
        "id": "Dvok9R21xC71"
      },
      "execution_count": null,
      "outputs": []
    },
    {
      "cell_type": "code",
      "source": [
        "import numpy as np\n",
        "\n",
        "for df in [df_basal, df_bolus]:\n",
        "    for column in df.columns:\n",
        "        if df[column].dtype in [np.int64, np.float64]:\n",
        "            if (df[column] == 0).all():\n",
        "                df.drop(column, axis=1, inplace=True)\n"
      ],
      "metadata": {
        "id": "VG-U4XdY7YkE"
      },
      "execution_count": null,
      "outputs": []
    },
    {
      "cell_type": "code",
      "source": [
        "print(df_basal.columns)\n",
        "print(df_bolus.columns)"
      ],
      "metadata": {
        "id": "zb8i2tmzyJvU"
      },
      "execution_count": null,
      "outputs": []
    },
    {
      "cell_type": "code",
      "source": [
        "numeric_cols1 = df_basal.select_dtypes(include=['int64', 'float64']).columns\n",
        "numeric_cols2 = df_bolus.select_dtypes(include=['int64', 'float64']).columns\n"
      ],
      "metadata": {
        "id": "SMUYz7Y5zcl0"
      },
      "execution_count": null,
      "outputs": []
    },
    {
      "cell_type": "code",
      "source": [
        "df_basal[numeric_cols1].hist(figsize=(12, 8), bins=30, edgecolor='black')\n",
        "plt.show()"
      ],
      "metadata": {
        "id": "5m_xwgDzyZ2I"
      },
      "execution_count": null,
      "outputs": []
    },
    {
      "cell_type": "code",
      "source": [
        "plt.figure(figsize=(10, 6))\n",
        "sns.heatmap(df_basal[numeric_cols1].corr(), annot=True, cmap=\"coolwarm\", fmt=\".2f\", linewidths=0.5)\n",
        "plt.show()"
      ],
      "metadata": {
        "id": "ElBRaSjoy6lk"
      },
      "execution_count": null,
      "outputs": []
    },
    {
      "cell_type": "code",
      "source": [
        "plt.figure(figsize=(12, 6))\n",
        "plt.plot(df_basal['Local Time'], df_basal['Rate'], alpha=0.7)\n",
        "plt.show()"
      ],
      "metadata": {
        "id": "fJd2Uv6evMHd"
      },
      "execution_count": null,
      "outputs": []
    },
    {
      "cell_type": "code",
      "source": [
        "plt.figure(figsize=(12, 6))\n",
        "plt.plot(df_basal['Local Time'], df_basal['Suppressed Rate'], alpha=0.7)\n",
        "plt.show()"
      ],
      "metadata": {
        "id": "qr-pvI4tzUut"
      },
      "execution_count": null,
      "outputs": []
    },
    {
      "cell_type": "code",
      "source": [
        "df_bolus[numeric_cols2].hist(figsize=(12, 8), bins=30, edgecolor='black')\n",
        "plt.show()"
      ],
      "metadata": {
        "id": "xDoU7lLB0gNj"
      },
      "execution_count": null,
      "outputs": []
    },
    {
      "cell_type": "code",
      "source": [
        "plt.figure(figsize=(10, 6))\n",
        "sns.heatmap(df_bolus[numeric_cols2].corr(), annot=True, cmap=\"coolwarm\", fmt=\".2f\", linewidths=0.5)\n",
        "plt.show()"
      ],
      "metadata": {
        "id": "OG6ylB9p3EOT"
      },
      "execution_count": null,
      "outputs": []
    },
    {
      "cell_type": "code",
      "source": [
        "plt.figure(figsize=(12, 6))\n",
        "plt.plot(df_bolus['Local Time'], df_bolus['Normal'], alpha=0.7)\n",
        "plt.show()"
      ],
      "metadata": {
        "id": "Laryn-LZvsJA"
      },
      "execution_count": null,
      "outputs": []
    }
  ],
  "metadata": {
    "colab": {
      "provenance": [],
      "gpuType": "T4"
    },
    "kernelspec": {
      "display_name": "Python 3",
      "name": "python3"
    },
    "language_info": {
      "name": "python"
    },
    "accelerator": "GPU"
  },
  "nbformat": 4,
  "nbformat_minor": 0
}